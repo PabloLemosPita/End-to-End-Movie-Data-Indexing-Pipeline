{
 "cells": [
  {
   "cell_type": "markdown",
   "id": "9327cdb8",
   "metadata": {},
   "source": [
    "Dependencies"
   ]
  },
  {
   "cell_type": "code",
   "execution_count": null,
   "id": "7f516889",
   "metadata": {},
   "outputs": [],
   "source": [
    "#Library and objects\n",
    "#Python 3.11.14\n",
    "\n",
    "from pyspark.sql import SparkSession #Version 3.4.1\n",
    "import pyspark.sql.functions as F\n",
    "\n",
    "from elasticsearch import Elasticsearch #Version 8.9.0\n",
    "import os"
   ]
  },
  {
   "cell_type": "code",
   "execution_count": null,
   "id": "54ba6f51",
   "metadata": {},
   "outputs": [],
   "source": [
    "#Spark Session \n",
    "\n",
    "spark = SparkSession.builder.appName(\"movie_indexing_pipeline\") \\\n",
    "                    .config(\"spark.jars\", \"./spark-jars/elasticsearch-spark-30_2.12-8.9.0.jar\") \\\n",
    "                    .config(\"spark.driver.memory\", \"3g\") \\\n",
    "                    .config(\"spark.driver.cores\", \"2\") \\\n",
    "                    .config(\"spark.executor.instances\", \"1\") \\\n",
    "                    .config(\"spark.executor.memory\", \"6g\") \\\n",
    "                    .config(\"spark.executor.cores\", \"4\") \\\n",
    "                    .getOrCreate()\n"
   ]
  },
  {
   "cell_type": "code",
   "execution_count": null,
   "id": "3c5d51e0",
   "metadata": {},
   "outputs": [],
   "source": [
    "#Elasticsearch connection\n",
    "\n",
    "es = Elasticsearch(\"http://127.0.0.1:9200\")\n",
    "\n",
    "try:\n",
    "    es.info()\n",
    "    print(\"Sucessfully connection!\")\n",
    "except Exception as error:\n",
    "    print(f\"Connection failed: {error}.\")"
   ]
  },
  {
   "cell_type": "markdown",
   "id": "70e34c0a",
   "metadata": {},
   "source": [
    "Creating Elasticsearch Index"
   ]
  },
  {
   "cell_type": "code",
   "execution_count": null,
   "id": "4875bffb",
   "metadata": {},
   "outputs": [],
   "source": [
    "index_name = \"movies\""
   ]
  },
  {
   "cell_type": "code",
   "execution_count": null,
   "id": "359db7ec",
   "metadata": {},
   "outputs": [],
   "source": [
    "body = {\n",
    "    \"mappings\": {\n",
    "        \"properties\": {\n",
    "            \"title\": {\"type\": \"text\"},\n",
    "            \"sinopse\": {\"type\": \"text\"},\n",
    "            \"release_date\": {\n",
    "                                \"type\": \"date\",\n",
    "                                \"format\": \"yyyy-MM-dd\"\n",
    "                            }\n",
    "        }\n",
    "    }\n",
    "}"
   ]
  },
  {
   "cell_type": "code",
   "execution_count": null,
   "id": "05b38d8b",
   "metadata": {},
   "outputs": [],
   "source": [
    "if not es.indices.exists(index=index_name):\n",
    "    es.indices.create(index=index_name, body=body)\n",
    "    print(f\"Index '{index_name}' - Create successfully!\")\n",
    "else: \n",
    "    print(f\"Index '{index_name}' - Already exists.\")"
   ]
  },
  {
   "cell_type": "markdown",
   "id": "18eed21a",
   "metadata": {},
   "source": [
    "Auxiliar Functions"
   ]
  },
  {
   "cell_type": "code",
   "execution_count": null,
   "id": "71bf7b54",
   "metadata": {},
   "outputs": [],
   "source": [
    "def normalize_title_column(spark_dataframe, title_column):\n",
    "    return spark_dataframe.withColumn(title_column, F.initcap(F.trim(title_column)))"
   ]
  },
  {
   "cell_type": "code",
   "execution_count": null,
   "id": "465d652a",
   "metadata": {},
   "outputs": [],
   "source": [
    "def transform_month_in_full_to_numeric(spark_dataframe, month_column):\n",
    "    return spark_dataframe.withColumn(month_column, F.when(F.col(month_column)==\"JANUARY\", \"01\")\n",
    "                                                     .when(F.col(month_column)==\"FEBRUARY\", \"02\")\n",
    "                                                     .when(F.col(month_column)==\"MARCH\", \"03\")\n",
    "                                                     .when(F.col(month_column)==\"APRIL\", \"04\")\n",
    "                                                     .when(F.col(month_column)==\"MAY\", \"05\")\n",
    "                                                     .when(F.col(month_column)==\"JUNE\", \"06\")\n",
    "                                                     .when(F.col(month_column)==\"JULY\", \"07\")\n",
    "                                                     .when(F.col(month_column)==\"AUGUST\", \"08\")\n",
    "                                                     .when(F.col(month_column)==\"SEPTEMBER\", \"09\")\n",
    "                                                     .when(F.col(month_column)==\"OCTOBER\", \"10\")\n",
    "                                                     .when(F.col(month_column)==\"NOVEMBER\", \"11\")\n",
    "                                                     .otherwise(\"12\")\n",
    "                                     )"
   ]
  },
  {
   "cell_type": "code",
   "execution_count": null,
   "id": "cea75ae1",
   "metadata": {},
   "outputs": [],
   "source": [
    "def create_full_release_date_column(spark_dataframe, numeric_day_column, numeric_month_column, numeric_year_column):\n",
    "    return spark_dataframe.withColumn(\"release_date\", F.concat_ws(\"-\", numeric_year_column, numeric_month_column, numeric_day_column)) \\\n",
    "                        .withColumn(\"release_date\", F.date_format(F.col(\"release_date\"), \"yyyy-MM-dd\"))"
   ]
  },
  {
   "cell_type": "code",
   "execution_count": null,
   "id": "bc357e9e",
   "metadata": {},
   "outputs": [],
   "source": [
    "def select_to_index_columns(spark_dataframe, title_column, sinopse_column, full_release_date_formated_column): \n",
    "    return spark_dataframe.select(F.col(title_column), F.col(sinopse_column), F.col(full_release_date_formated_column))"
   ]
  },
  {
   "cell_type": "markdown",
   "id": "05dd39b7",
   "metadata": {},
   "source": [
    "ETL - Extraction"
   ]
  },
  {
   "cell_type": "code",
   "execution_count": null,
   "id": "e70dd29c",
   "metadata": {},
   "outputs": [],
   "source": [
    "main_data_dir = \"./data\"\n",
    "csv_file_full_path = os.path.join(main_data_dir, \"CSV-MOVIES.csv\")\n",
    "parquet_file_full_path = os.path.join(main_data_dir, \"PARQUET-MOVIES\")"
   ]
  },
  {
   "cell_type": "code",
   "execution_count": null,
   "id": "5fb7d417",
   "metadata": {},
   "outputs": [],
   "source": [
    "csv_file_df = spark.read.csv(csv_file_full_path, header=True)"
   ]
  },
  {
   "cell_type": "code",
   "execution_count": null,
   "id": "1ac53fcd",
   "metadata": {},
   "outputs": [],
   "source": [
    "parquet_file_df = spark.read.parquet(parquet_file_full_path)"
   ]
  },
  {
   "cell_type": "markdown",
   "id": "6a1c0f9e",
   "metadata": {},
   "source": [
    "ETL - Transform"
   ]
  },
  {
   "cell_type": "code",
   "execution_count": null,
   "id": "79a74301",
   "metadata": {},
   "outputs": [],
   "source": [
    "# CSV file ransforming\n",
    "\n",
    "csv_file_df = normalize_title_column(csv_file_df, \"title\")\n",
    "csv_file_df = transform_month_in_full_to_numeric(csv_file_df, \"release_month\")\n",
    "csv_file_df = create_full_release_date_column(csv_file_df, \"release_day\", \"release_month\", \"release_year\")\n",
    "csv_file_df = select_to_index_columns(csv_file_df, \"title\", \"sinopse\", \"release_date\")"
   ]
  },
  {
   "cell_type": "code",
   "execution_count": null,
   "id": "a67bb8b2",
   "metadata": {},
   "outputs": [],
   "source": [
    "# PARQUET file transforming\n",
    "\n",
    "parquet_file_df = normalize_title_column(parquet_file_df, \"title\")\n",
    "parquet_file_df = transform_month_in_full_to_numeric(parquet_file_df, \"release_month\")\n",
    "parquet_file_df = create_full_release_date_column(parquet_file_df, \"release_day\", \"release_month\", \"release_year\")\n",
    "parquet_file_df = select_to_index_columns(parquet_file_df, \"title\", \"sinopse\", \"release_date\")"
   ]
  },
  {
   "cell_type": "code",
   "execution_count": null,
   "id": "c4a16b7d",
   "metadata": {},
   "outputs": [],
   "source": [
    "final_df = parquet_file_df.union(csv_file_df)"
   ]
  },
  {
   "cell_type": "markdown",
   "id": "5adf26ad",
   "metadata": {},
   "source": [
    "ETL - Load"
   ]
  },
  {
   "cell_type": "code",
   "execution_count": null,
   "id": "1bb15c56",
   "metadata": {},
   "outputs": [],
   "source": [
    "final_df.write \\\n",
    "    .format(\"org.elasticsearch.spark.sql\") \\\n",
    "    .option(\"es.resource\", \"movies\") \\\n",
    "    .option(\"es.nodes\", \"127.0.0.1\") \\\n",
    "    .option(\"es.port\", \"9200\") \\\n",
    "    .mode(\"append\") \\\n",
    "    .save()"
   ]
  }
 ],
 "metadata": {
  "kernelspec": {
   "display_name": "Data-Engineering-Venv",
   "language": "python",
   "name": "python3"
  },
  "language_info": {
   "codemirror_mode": {
    "name": "ipython",
    "version": 3
   },
   "file_extension": ".py",
   "mimetype": "text/x-python",
   "name": "python",
   "nbconvert_exporter": "python",
   "pygments_lexer": "ipython3",
   "version": "3.11.14"
  }
 },
 "nbformat": 4,
 "nbformat_minor": 5
}
